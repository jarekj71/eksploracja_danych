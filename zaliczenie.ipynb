{
 "cells": [
  {
   "cell_type": "markdown",
   "metadata": {},
   "source": [
    "# Zaliczenie\n",
    "\n"
   ]
  },
  {
   "cell_type": "markdown",
   "metadata": {},
   "source": [
    "## Dane\n",
    "\n",
    "Dane obejmują:\n",
    "\n",
    "- Siedem warstw geoprzestrznnych pokazujące odległości od wybranych typów obiektów, znajdują się w katalogu rast. Dla wygody warstwy połączone są w pliku vrt. - zmienne wyjaśniające\n",
    "  - distbuses - odłegłości od przystanków autobusowych\n",
    "  - distcentre - odległości od geometrycznego centrum miasta\n",
    "  - distgreens - odlełgości od obszarów zielonych\n",
    "  - distpublic - odległosci od obiektów administracji publicznej\n",
    "  - distroads - odlełgości od głównych dróg\n",
    "  - diststations - odległość od najbliżeszej stacji kolejowej\n",
    "  - distwaters - odległość do wody\n",
    "\n",
    "- warstwa wektorowa zawierająca lokalizację ~500 transakcji nieruchomości z ceną 1m2 - zmienna wyjaśniana"
   ]
  },
  {
   "cell_type": "markdown",
   "metadata": {},
   "source": [
    "## Praca zaliczeniowa\n",
    "\n",
    "Praca obejmuje wykonanie działań obliczeniowych, wizualizację wyników oraz napisanie raportu wraz z interpretacją wyników. W zależności od zakresu wykoanych prac, można uzyskać maksymalnie następujące oceny:"
   ]
  },
  {
   "cell_type": "markdown",
   "metadata": {},
   "source": [
    "### Ocena dostateczna plus (3.5)\n",
    "\n",
    "Przeprowadzenie eksploracyjnej analizy danych:\n",
    "- wyliczenie podstawowych statystyk dla zmiennych wyjaśniających i wyjaśnianych, \n",
    "- zbadanie zależności pomiędzy poszczególnymi zmiennymi wyjaśniającymi  oraz zmienną wyjaśnianą\n",
    "- przeprowadzenie analizy PCA, wizualizację wybranych składowych,\n",
    "- wskazanie, która składowa jest nalepiej skorelowana z cenami nieruchomości. **Zależność wyjaśnić**"
   ]
  },
  {
   "cell_type": "markdown",
   "metadata": {},
   "source": [
    "### Ocena dobra plus (4.5)\n",
    "\n",
    "Zbudowanie modelu przestrzennego cen nieruchomości na badanym obszarze\n",
    "- zbudowanie modelu liniowego lub innego modelu regresyjnego pomiędzy ceną a zmiennymi wyjaśniającymi\n",
    "- dokonanie oceny jakości modelu\n",
    "- zbadać wpływ transformacji zmiennych na model\n",
    "- **wyjaśnić rolę poszczególnych zmiennych w modelu**"
   ]
  },
  {
   "cell_type": "markdown",
   "metadata": {},
   "source": [
    "### Ocena bardzo dobra (5)\n",
    "\n",
    "- dokonać grupowania przestrzennego zmiennych wyjaśniających. **Uzasadnić dobór liczby klas**\n",
    "- **dokonać interpretacji otrzymanych klas**\n",
    "- Zbudować modele regresyjne dla uzyskanych klas. **Wyjaśnić przyczny zróżnicowania**"
   ]
  },
  {
   "cell_type": "markdown",
   "metadata": {},
   "source": [
    "## Co wpływa na ocenę:\n",
    "\n",
    " - **ćwiczenia** prawidłowość przeprowadzonej analizy\n",
    " - **wykłady** jakość interpretacji i uzasadnienie użytych narzędzi\n",
    "  \n",
    "  Na ocenę nie wpływa wybór technologii\n",
    "\n",
    "  Praca zaliczeniowa w postaci pliku PDF przesyłamy mailem na adres **jarekj@amu.edu.pl** Proszę nie przesyłać prac przez Teams."
   ]
  }
 ],
 "metadata": {
  "kernelspec": {
   "display_name": "venv",
   "language": "python",
   "name": "python3"
  },
  "language_info": {
   "name": "python",
   "version": "3.9.5"
  }
 },
 "nbformat": 4,
 "nbformat_minor": 2
}
